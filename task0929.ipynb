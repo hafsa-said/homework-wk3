{
 "cells": [
  {
   "cell_type": "code",
   "execution_count": 12,
   "id": "2fbf3f8c",
   "metadata": {},
   "outputs": [
    {
     "name": "stdout",
     "output_type": "stream",
     "text": [
      "A + b = 8\n",
      "A - b = -2\n",
      "A * b = 15\n",
      "A + b = 6\n",
      "A - b = zero\n",
      "A * b = 9\n"
     ]
    }
   ],
   "source": [
    "def new_function(a,b):\n",
    "    sum = a + b\n",
    "    if sum == 0:\n",
    "        print('A + b = zero')\n",
    "    else:\n",
    "        print('A + b = ' + str(sum))\n",
    "    diff = a - b\n",
    "    if diff == 0:\n",
    "        print('A - b = zero')\n",
    "    else:\n",
    "        print('A - b = ' + str(diff))\n",
    "    product = a * b\n",
    "    if product == 0:\n",
    "        print('A * b = zero')\n",
    "    else:\n",
    "        print('A * b = ' + str(product))\n",
    "        \n",
    "new_function(3,5)\n",
    "new_function(3,3)\n"
   ]
  },
  {
   "cell_type": "code",
   "execution_count": 2,
   "id": "76b95728",
   "metadata": {},
   "outputs": [],
   "source": []
  },
  {
   "cell_type": "code",
   "execution_count": null,
   "id": "5fdc0b90",
   "metadata": {},
   "outputs": [],
   "source": []
  }
 ],
 "metadata": {
  "kernelspec": {
   "display_name": "Python 3 (ipykernel)",
   "language": "python",
   "name": "python3"
  },
  "language_info": {
   "codemirror_mode": {
    "name": "ipython",
    "version": 3
   },
   "file_extension": ".py",
   "mimetype": "text/x-python",
   "name": "python",
   "nbconvert_exporter": "python",
   "pygments_lexer": "ipython3",
   "version": "3.9.7"
  }
 },
 "nbformat": 4,
 "nbformat_minor": 5
}
